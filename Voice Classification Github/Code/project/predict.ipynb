{
 "cells": [
  {
   "cell_type": "code",
   "execution_count": 3,
   "metadata": {},
   "outputs": [],
   "source": [
    "import IPython.display as ipd\n",
    "# % pylab inline\n",
    "import os\n",
    "import pandas as pd\n",
    "import librosa\n",
    "import glob \n",
    "import librosa.display\n",
    "import random\n",
    "\n",
    "from sklearn.preprocessing import StandardScaler\n",
    "import numpy as np\n",
    "import os\n",
    "\n",
    "from tensorflow.keras.models import load_model"
   ]
  },
  {
   "cell_type": "code",
   "execution_count": 4,
   "metadata": {},
   "outputs": [],
   "source": [
    "model=load_model(\"D:\\\\Voice Classification\\\\Code\\\\Gender_Classifier\\\\trained_models\\\\Gender_Classifier_NN.h5\")"
   ]
  },
  {
   "cell_type": "code",
   "execution_count": 5,
   "metadata": {},
   "outputs": [
    {
     "name": "stdout",
     "output_type": "stream",
     "text": [
      "Model: \"sequential\"\n",
      "_________________________________________________________________\n",
      "Layer (type)                 Output Shape              Param #   \n",
      "=================================================================\n",
      "dense (Dense)                (None, 193)               37442     \n",
      "_________________________________________________________________\n",
      "dropout (Dropout)            (None, 193)               0         \n",
      "_________________________________________________________________\n",
      "dense_1 (Dense)              (None, 128)               24832     \n",
      "_________________________________________________________________\n",
      "dropout_1 (Dropout)          (None, 128)               0         \n",
      "_________________________________________________________________\n",
      "dense_2 (Dense)              (None, 128)               16512     \n",
      "_________________________________________________________________\n",
      "dropout_2 (Dropout)          (None, 128)               0         \n",
      "_________________________________________________________________\n",
      "dense_3 (Dense)              (None, 2)                 258       \n",
      "=================================================================\n",
      "Total params: 79,044\n",
      "Trainable params: 79,044\n",
      "Non-trainable params: 0\n",
      "_________________________________________________________________\n"
     ]
    }
   ],
   "source": [
    "model.summary()"
   ]
  },
  {
   "cell_type": "code",
   "execution_count": 28,
   "metadata": {},
   "outputs": [],
   "source": [
    "# Again, the modified function to extract features from our new test data\n",
    "\n",
    "def extract_features(files):\n",
    "    \n",
    "    # Sets the name to be the path to where the file is in my computer\n",
    "    #file_name = os.path.join(os.path.abspath('new_test_male_female')+'/'+str(files.file))\n",
    "    file_name=\"D:\\\\ML_Python\\\\voice classification\\\\\"+files.file+\".wav\"\n",
    "\n",
    "    # Loads the audio file as a floating point time series and assigns the default sample rate\n",
    "    # Sample rate is set to 22050 by default\n",
    "    X, sample_rate = librosa.load(file_name, res_type='kaiser_fast') \n",
    "\n",
    "    # Generate Mel-frequency cepstral coefficients (MFCCs) from a time series \n",
    "    mfccs = np.mean(librosa.feature.mfcc(y=X, sr=sample_rate, n_mfcc=40).T,axis=0)\n",
    "\n",
    "    # Generates a Short-time Fourier transform (STFT) to use in the chroma_stft\n",
    "    stft = np.abs(librosa.stft(X))\n",
    "\n",
    "    # Computes a chromagram from a waveform or power spectrogram.\n",
    "    chroma = np.mean(librosa.feature.chroma_stft(S=stft, sr=sample_rate).T,axis=0)\n",
    "\n",
    "    # Computes a mel-scaled spectrogram.\n",
    "    mel = np.mean(librosa.feature.melspectrogram(X, sr=sample_rate).T,axis=0)\n",
    "\n",
    "    # Computes spectral contrast\n",
    "    contrast = np.mean(librosa.feature.spectral_contrast(S=stft, sr=sample_rate).T,axis=0)\n",
    "\n",
    "    # Computes the tonal centroid features (tonnetz)\n",
    "    tonnetz = np.mean(librosa.feature.tonnetz(y=librosa.effects.harmonic(X),\n",
    "    sr=sample_rate).T,axis=0)\n",
    "        \n",
    "    \n",
    "    # We add also the classes of each file as a label at the end\n",
    "    #label = files.label\n",
    "\n",
    "    return mfccs, chroma, mel, contrast, tonnetz"
   ]
  },
  {
   "cell_type": "code",
   "execution_count": 29,
   "metadata": {},
   "outputs": [],
   "source": [
    "files=pd.DataFrame({'file':[\"hello2\"]})"
   ]
  },
  {
   "cell_type": "code",
   "execution_count": 30,
   "metadata": {},
   "outputs": [],
   "source": [
    "features=files.apply(extract_features,axis=1)"
   ]
  },
  {
   "cell_type": "code",
   "execution_count": 31,
   "metadata": {},
   "outputs": [
    {
     "data": {
      "text/plain": [
       "0    ([-367.3588881757326, 75.43637931876452, -13.0...\n",
       "dtype: object"
      ]
     },
     "execution_count": 31,
     "metadata": {},
     "output_type": "execute_result"
    }
   ],
   "source": [
    "features"
   ]
  },
  {
   "cell_type": "code",
   "execution_count": 32,
   "metadata": {},
   "outputs": [],
   "source": [
    "x=np.array(features)"
   ]
  },
  {
   "cell_type": "code",
   "execution_count": 33,
   "metadata": {},
   "outputs": [],
   "source": [
    "xf=np.load('D:\\\\Voice Classification\\\\Code\\\\Gender_Classifier\\\\features_label_test_new.npy', allow_pickle=True)"
   ]
  },
  {
   "cell_type": "code",
   "execution_count": 34,
   "metadata": {},
   "outputs": [
    {
     "data": {
      "text/plain": [
       "(2618,)"
      ]
     },
     "execution_count": 34,
     "metadata": {},
     "output_type": "execute_result"
    }
   ],
   "source": [
    "xf.shape"
   ]
  },
  {
   "cell_type": "code",
   "execution_count": 35,
   "metadata": {},
   "outputs": [
    {
     "data": {
      "text/plain": [
       "(1,)"
      ]
     },
     "execution_count": 35,
     "metadata": {},
     "output_type": "execute_result"
    }
   ],
   "source": [
    "x.shape"
   ]
  },
  {
   "cell_type": "code",
   "execution_count": 36,
   "metadata": {},
   "outputs": [
    {
     "data": {
      "text/plain": [
       "5"
      ]
     },
     "execution_count": 36,
     "metadata": {},
     "output_type": "execute_result"
    }
   ],
   "source": [
    "len(x[0])"
   ]
  },
  {
   "cell_type": "code",
   "execution_count": 37,
   "metadata": {
    "scrolled": false
   },
   "outputs": [],
   "source": [
    "features_new_test = []\n",
    "for i in range(0, len(x)):\n",
    "    features_new_test.append(np.concatenate((x[i][0], x[i][1], \n",
    "                x[i][2], x[i][3],\n",
    "                x[i][4]), axis=0))"
   ]
  },
  {
   "cell_type": "code",
   "execution_count": 38,
   "metadata": {},
   "outputs": [
    {
     "data": {
      "text/plain": [
       "[array([-3.67358888e+02,  7.54363793e+01, -1.30827384e+01,  4.60420585e+00,\n",
       "        -1.06760274e+00, -3.02601526e+00, -6.76953761e+00, -2.82676406e+00,\n",
       "        -7.41565510e+00, -3.50610016e+00, -9.32932847e+00, -1.00899810e+01,\n",
       "        -1.29823846e+01, -4.10814196e+00, -8.03616183e+00, -8.30792426e+00,\n",
       "        -7.55726619e+00, -6.22920192e+00, -7.04699564e+00, -6.63087369e+00,\n",
       "        -7.91987583e+00, -7.89171694e+00, -5.80421672e+00, -4.61875863e+00,\n",
       "        -5.93380615e+00, -4.48403541e+00, -2.05443831e+00, -6.73115129e-01,\n",
       "        -3.24645539e+00, -2.96307109e+00, -2.53403763e+00, -2.31011724e+00,\n",
       "        -9.92799093e-01, -1.99066887e+00, -1.95602503e+00, -1.93234881e-02,\n",
       "         1.17138320e+00, -8.54081116e-01, -1.01711893e+00,  1.04741163e+00,\n",
       "         7.69746700e-01,  7.54250815e-01,  7.50907166e-01,  7.27749661e-01,\n",
       "         7.29184344e-01,  7.43263188e-01,  8.00900542e-01,  7.99671246e-01,\n",
       "         8.54201773e-01,  8.27824471e-01,  8.17004741e-01,  8.10402616e-01,\n",
       "         8.22771370e-02,  2.66138848e-02,  6.11618458e-02,  1.62885636e+00,\n",
       "         8.46759359e+00,  8.04055126e+00,  5.05406652e+00,  6.54054705e+00,\n",
       "         3.38664793e+01,  1.64402814e+01,  1.13839153e+00,  2.14247259e+00,\n",
       "         9.58943653e+00,  1.54646254e+01,  5.79535301e+00,  1.55846901e+00,\n",
       "         2.63137072e+01,  6.89252909e+01,  1.39717996e+01,  3.48240709e+00,\n",
       "         3.89751460e+00,  1.26397752e+01,  6.23696082e+00,  2.02719556e+00,\n",
       "         8.66351979e-01,  9.97619969e-01,  1.37304988e+00,  3.71255398e-01,\n",
       "         1.62059096e-01,  3.78529978e-01,  1.90302575e+00,  1.26213328e+00,\n",
       "         4.32587085e-01,  2.42987861e-01,  4.58126278e-01,  5.47339422e-01,\n",
       "         5.75004889e-01,  3.36246835e-01,  1.28428351e+00,  2.57778036e+00,\n",
       "         4.51736425e-01,  3.27021917e-01,  3.70109954e-01,  4.32418355e-01,\n",
       "         2.21641199e-01,  1.49259323e-01,  1.63867231e-01,  1.58215913e-01,\n",
       "         2.36577325e-01,  2.46031704e-01,  4.56352588e-01,  4.19319172e-01,\n",
       "         2.94678054e-01,  4.00595405e-01,  3.75101282e-01,  2.83072358e-01,\n",
       "         3.16539834e-01,  3.07447298e-01,  2.52098532e-01,  1.82995853e-01,\n",
       "         1.80800707e-01,  1.59749511e-01,  2.49434150e-01,  3.00456199e-01,\n",
       "         1.77643099e-01,  1.82104570e-01,  8.85569404e-02,  1.13620477e-01,\n",
       "         1.37957575e-01,  1.08355473e-01,  9.71167621e-02,  7.44976153e-02,\n",
       "         6.60998764e-02,  7.09307871e-02,  6.18923415e-02,  4.32596394e-02,\n",
       "         4.34579038e-02,  3.37088461e-02,  2.57607407e-02,  1.62806812e-02,\n",
       "         1.65662200e-02,  1.30029765e-02,  9.68252801e-03,  7.97355458e-03,\n",
       "         7.88344011e-03,  8.87135606e-03,  6.54643285e-03,  5.27833532e-03,\n",
       "         4.91357038e-03,  4.58856201e-03,  4.07956825e-03,  3.53559417e-03,\n",
       "         3.18564334e-03,  3.35921152e-03,  2.92552499e-03,  2.97955212e-03,\n",
       "         2.53955569e-03,  2.84661636e-03,  2.64942142e-03,  3.12329779e-03,\n",
       "         2.99704838e-03,  2.47283935e-03,  2.61017950e-03,  2.49457681e-03,\n",
       "         1.81518765e-03,  1.83118136e-03,  1.55907094e-03,  1.20180567e-03,\n",
       "         1.20711494e-03,  1.34108996e-03,  1.88527378e-03,  2.46246153e-03,\n",
       "         3.60219648e-03,  5.36127011e-03,  7.41127249e-03,  7.96203061e-03,\n",
       "         5.49528676e-03,  5.27838106e-03,  4.36863388e-03,  1.50328887e-03,\n",
       "         7.94561346e-04,  8.33273504e-04,  3.78060356e-04,  1.83958310e-04,\n",
       "         8.53191430e-05,  2.73362531e-05,  8.86960071e-06,  4.33805559e-07,\n",
       "         2.25165550e+01,  1.14527577e+01,  1.32949241e+01,  1.30973186e+01,\n",
       "         1.58657923e+01,  1.57449595e+01,  3.23320101e+01,  1.21165085e-03,\n",
       "        -7.20309012e-03,  2.26706104e-02,  7.28259735e-03,  3.71677366e-03,\n",
       "        -8.58596944e-03])]"
      ]
     },
     "execution_count": 38,
     "metadata": {},
     "output_type": "execute_result"
    }
   ],
   "source": [
    "features_new_test"
   ]
  },
  {
   "cell_type": "code",
   "execution_count": 39,
   "metadata": {},
   "outputs": [],
   "source": [
    "X_new_test = np.array(features_new_test)"
   ]
  },
  {
   "cell_type": "code",
   "execution_count": 40,
   "metadata": {},
   "outputs": [],
   "source": [
    "# load the scaler\n",
    "from pickle import load\n",
    "ss = load(open('D:\\\\Voice Classification\\\\Code\\\\Gender_Classifier\\\\scaler.pkl', 'rb'))"
   ]
  },
  {
   "cell_type": "code",
   "execution_count": 41,
   "metadata": {},
   "outputs": [],
   "source": [
    "#ss=StandardScaler()\n",
    "X_new_test_scaled = ss.transform(X_new_test)"
   ]
  },
  {
   "cell_type": "code",
   "execution_count": 42,
   "metadata": {},
   "outputs": [
    {
     "data": {
      "text/plain": [
       "array([[-6.45820241e-01, -2.19793907e+00,  6.61313146e-01,\n",
       "        -2.65591491e+00,  5.26319274e-01, -9.90673163e-01,\n",
       "         1.00355482e-01,  2.93976571e-01, -6.35038628e-01,\n",
       "         2.77252560e-01, -1.84329987e+00, -5.87919243e-01,\n",
       "        -2.90393697e+00, -1.54360324e-01, -2.14662484e+00,\n",
       "        -1.14937082e+00, -1.21023035e+00, -1.69164377e+00,\n",
       "        -7.72050662e-01, -1.78242303e+00, -1.29083750e+00,\n",
       "        -2.11730209e+00, -1.09182854e+00, -1.01005780e+00,\n",
       "        -1.76986743e+00, -1.11698757e+00, -6.44332620e-01,\n",
       "         1.18829277e-01, -1.18406033e+00, -8.35465779e-01,\n",
       "        -9.21792066e-01, -8.32325317e-01, -5.36238863e-01,\n",
       "        -8.25399497e-01, -7.88152876e-01, -3.25542855e-01,\n",
       "         2.08904362e-01, -5.60070692e-01, -5.07489115e-01,\n",
       "         1.63645786e-01,  2.71649993e+00,  2.46200266e+00,\n",
       "         2.30115517e+00,  1.91618058e+00,  1.91860898e+00,\n",
       "         2.00058519e+00,  2.75077921e+00,  2.62204803e+00,\n",
       "         3.36760313e+00,  3.11756099e+00,  3.18539394e+00,\n",
       "         3.20915844e+00, -1.05666161e-01, -2.34527682e-01,\n",
       "        -2.97662674e-01, -2.03870520e-01,  4.79378830e-01,\n",
       "         4.68907773e-01, -5.51855674e-02,  9.73938163e-03,\n",
       "         3.87838393e+00,  1.89158174e+00, -4.81819907e-01,\n",
       "        -2.49981769e-01,  1.51419180e+00,  2.88363514e+00,\n",
       "         3.83953806e-01, -4.99765338e-01,  3.45064793e+00,\n",
       "         8.83253860e+00,  1.76515716e+00, -2.31996205e-03,\n",
       "         1.71387632e-01,  2.03873252e+00,  1.11029796e+00,\n",
       "        -2.21925875e-02, -3.50992250e-01, -2.89461448e-01,\n",
       "        -7.77962860e-02, -5.20012977e-01, -5.98454292e-01,\n",
       "        -4.07657398e-01,  6.53101442e-01,  3.06285451e-01,\n",
       "        -2.49031492e-01, -3.44774662e-01, -1.44586538e-01,\n",
       "        -1.96026154e-02,  5.18244933e-02, -1.95471267e-01,\n",
       "         1.11597632e+00,  2.65835687e+00,  8.88274915e-02,\n",
       "        -9.94165952e-02, -2.26130367e-02,  1.17242753e-01,\n",
       "        -2.12980541e-01, -3.35687951e-01, -2.90332767e-01,\n",
       "        -2.73875408e-01, -1.01757573e-01, -4.87268975e-02,\n",
       "         4.55012015e-01,  3.42066296e-01,  9.52274615e-02,\n",
       "         3.85728443e-01,  3.38921150e-01,  1.43255031e-01,\n",
       "         2.67240771e-01,  2.61926744e-01,  1.56920979e-01,\n",
       "        -2.25774086e-03,  3.64701597e-02,  6.62758844e-03,\n",
       "         3.60532866e-01,  5.74439572e-01,  2.09817968e-01,\n",
       "         3.17702856e-01, -4.08144560e-02,  1.04874650e-01,\n",
       "         2.60881312e-01,  1.26348490e-01,  8.34400759e-02,\n",
       "        -4.39970263e-02, -9.98387717e-02, -6.38638525e-02,\n",
       "        -1.09842165e-01, -2.14246417e-01, -1.90064715e-01,\n",
       "        -2.42638621e-01, -2.78060865e-01, -3.60291166e-01,\n",
       "        -3.63790116e-01, -3.91979044e-01, -3.82101044e-01,\n",
       "        -3.86903977e-01, -3.56614898e-01, -3.46576413e-01,\n",
       "        -3.70130362e-01, -3.82999133e-01, -4.42181654e-01,\n",
       "        -4.61805257e-01, -4.54675524e-01, -4.49204996e-01,\n",
       "        -4.41349122e-01, -4.67970545e-01, -4.96884218e-01,\n",
       "        -4.81340651e-01, -4.90000369e-01, -4.84479637e-01,\n",
       "        -4.79079277e-01, -4.75208800e-01, -4.59995036e-01,\n",
       "        -4.66720556e-01, -4.60352805e-01, -4.51802033e-01,\n",
       "        -4.29575347e-01, -4.03166227e-01, -4.09016978e-01,\n",
       "        -4.00835472e-01, -3.66758075e-01, -3.25041925e-01,\n",
       "        -1.41231334e-01,  4.28500702e-01,  3.05657941e+00,\n",
       "         1.97303956e+01,  1.61688309e+02,  1.67899984e+03,\n",
       "         7.36918291e+03,  7.92007327e+03,  7.03069587e+03,\n",
       "         2.56754493e+03,  1.42974386e+03,  1.56654956e+03,\n",
       "         7.38050040e+02,  3.70722121e+02,  1.76291972e+02,\n",
       "         5.76976277e+01,  1.89644861e+01,  8.94539830e-01,\n",
       "         9.24480819e-01, -2.62547175e+00, -3.03736018e+00,\n",
       "        -2.98635966e+00, -2.14982290e+00, -2.23190825e+00,\n",
       "        -4.51618008e+00,  7.11642230e-01, -9.28427642e-01,\n",
       "         3.14342772e-01,  3.35855168e-01,  2.76007054e-01,\n",
       "        -5.32397413e-01]])"
      ]
     },
     "execution_count": 42,
     "metadata": {},
     "output_type": "execute_result"
    }
   ],
   "source": [
    "X_new_test_scaled"
   ]
  },
  {
   "cell_type": "code",
   "execution_count": 43,
   "metadata": {},
   "outputs": [],
   "source": [
    "preds_new_test = model.predict_classes(X_new_test_scaled)"
   ]
  },
  {
   "cell_type": "code",
   "execution_count": 45,
   "metadata": {},
   "outputs": [
    {
     "data": {
      "text/plain": [
       "1"
      ]
     },
     "execution_count": 45,
     "metadata": {},
     "output_type": "execute_result"
    }
   ],
   "source": [
    "preds_new_test[0]"
   ]
  },
  {
   "cell_type": "code",
   "execution_count": null,
   "metadata": {},
   "outputs": [],
   "source": []
  },
  {
   "cell_type": "code",
   "execution_count": null,
   "metadata": {},
   "outputs": [],
   "source": []
  },
  {
   "cell_type": "code",
   "execution_count": null,
   "metadata": {},
   "outputs": [],
   "source": []
  },
  {
   "cell_type": "code",
   "execution_count": null,
   "metadata": {},
   "outputs": [],
   "source": []
  },
  {
   "cell_type": "code",
   "execution_count": null,
   "metadata": {},
   "outputs": [],
   "source": []
  },
  {
   "cell_type": "code",
   "execution_count": null,
   "metadata": {},
   "outputs": [],
   "source": []
  },
  {
   "cell_type": "code",
   "execution_count": null,
   "metadata": {},
   "outputs": [],
   "source": []
  },
  {
   "cell_type": "code",
   "execution_count": null,
   "metadata": {},
   "outputs": [],
   "source": []
  },
  {
   "cell_type": "code",
   "execution_count": null,
   "metadata": {},
   "outputs": [],
   "source": []
  },
  {
   "cell_type": "code",
   "execution_count": null,
   "metadata": {},
   "outputs": [],
   "source": []
  },
  {
   "cell_type": "code",
   "execution_count": null,
   "metadata": {},
   "outputs": [],
   "source": []
  },
  {
   "cell_type": "code",
   "execution_count": null,
   "metadata": {},
   "outputs": [],
   "source": []
  },
  {
   "cell_type": "code",
   "execution_count": null,
   "metadata": {},
   "outputs": [],
   "source": []
  },
  {
   "cell_type": "code",
   "execution_count": null,
   "metadata": {},
   "outputs": [],
   "source": []
  },
  {
   "cell_type": "code",
   "execution_count": 54,
   "metadata": {},
   "outputs": [
    {
     "data": {
      "text/plain": [
       "(array([-3.43151894e+02,  1.30807666e+02, -2.54582401e+01,  3.93869360e+01,\n",
       "         5.78739313e+00,  8.59167441e+00, -2.30826018e+00, -6.26370499e+00,\n",
       "        -1.49265264e+00, -2.64564332e+00,  2.13327045e+00, -2.67472739e+00,\n",
       "         4.38225260e+00, -5.52471688e+00,  2.84004537e+00,  2.54154742e+00,\n",
       "        -8.36582459e+00,  2.88208160e+00,  3.03161239e-01, -3.35218205e+00,\n",
       "        -1.38677099e+00, -6.69648788e-01, -2.46809724e+00, -3.16088108e+00,\n",
       "        -1.70967880e+00, -8.55692205e-01, -1.21527078e+00, -2.67280067e+00,\n",
       "        -4.09102603e-01, -1.33746882e+00, -1.49478028e+00, -8.19055466e-01,\n",
       "        -2.42719603e+00, -8.51065873e-01, -1.49274159e+00, -1.11107714e+00,\n",
       "         4.22248251e-01, -1.61720483e+00, -1.12912938e+00, -1.23440105e+00]),\n",
       " array([0.62768872, 0.62923234, 0.65734485, 0.67268059, 0.66910285,\n",
       "        0.66745062, 0.66377279, 0.66229756, 0.65492974, 0.63531823,\n",
       "        0.64663837, 0.65517235]),\n",
       " array([1.32126304e-01, 1.84647980e-01, 1.00573468e+00, 2.54477662e+00,\n",
       "        1.74421003e+00, 7.28973142e-01, 1.94457557e+00, 2.50488447e+00,\n",
       "        2.30636439e+00, 3.08072402e+00, 1.81275424e+00, 1.33565501e+00,\n",
       "        1.36737143e+00, 1.56471034e+00, 3.51496965e+00, 3.71725161e+00,\n",
       "        1.75290041e+00, 1.81581229e+00, 3.44000250e+00, 3.49587854e+00,\n",
       "        2.42206606e+00, 1.82075053e+00, 2.19888857e+00, 1.70928867e+00,\n",
       "        1.83553919e+00, 1.65240984e+00, 1.78425095e+00, 1.24112435e+00,\n",
       "        6.79038569e-01, 5.44230535e-01, 3.54311833e-01, 2.05681001e-01,\n",
       "        1.37840448e-01, 2.40170884e-01, 5.02330319e-01, 2.56048077e-01,\n",
       "        1.55026447e-01, 2.42262534e-01, 1.83099124e-01, 1.57915076e-01,\n",
       "        1.20446042e-01, 1.13137145e-01, 9.17188406e-02, 1.07702344e-01,\n",
       "        1.37114618e-01, 2.18105919e-01, 2.26238667e-01, 1.66196601e-01,\n",
       "        2.15762423e-01, 3.14261878e-01, 2.86659939e-01, 3.47397486e-01,\n",
       "        3.58963931e-01, 2.55480143e-01, 2.25976999e-01, 1.47706069e-01,\n",
       "        1.57421453e-01, 1.43940334e-01, 9.63787397e-02, 7.48157803e-02,\n",
       "        7.38586519e-02, 8.34774552e-02, 7.58598950e-02, 5.11697600e-02,\n",
       "        3.96161671e-02, 4.18326846e-02, 3.48992224e-02, 3.98059409e-02,\n",
       "        4.09078742e-02, 4.41794937e-02, 4.71816977e-02, 4.90613573e-02,\n",
       "        4.44976325e-02, 3.42115811e-02, 1.96698823e-02, 1.09773205e-02,\n",
       "        7.41216051e-03, 5.67281870e-03, 5.09835513e-03, 3.83751280e-03,\n",
       "        3.57422170e-03, 5.11051624e-03, 5.62504646e-03, 7.78364697e-03,\n",
       "        1.09119385e-02, 1.27879817e-02, 9.83476789e-03, 1.03364635e-02,\n",
       "        8.80608306e-03, 8.87007257e-03, 7.96268673e-03, 5.62404703e-03,\n",
       "        5.90564255e-03, 7.53894019e-03, 7.55931320e-03, 7.02804300e-03,\n",
       "        1.01753095e-02, 7.28342087e-03, 6.20533630e-03, 5.31755026e-03,\n",
       "        4.09032888e-03, 3.49767856e-03, 2.96257661e-03, 1.87730190e-03,\n",
       "        1.88764795e-03, 1.38464736e-03, 1.09482164e-03, 6.52066112e-04,\n",
       "        4.98268086e-04, 2.80158333e-04, 1.46297777e-04, 6.55553387e-05,\n",
       "        2.70222635e-05, 7.25691208e-06, 1.25674474e-06, 1.22901815e-07,\n",
       "        5.40323515e-09, 6.81838929e-10, 6.59136517e-10, 5.81559949e-10,\n",
       "        5.26213122e-10, 6.27304123e-10, 6.39714492e-10, 8.17466453e-10,\n",
       "        6.29600001e-10, 8.00007086e-10, 6.88757463e-10, 5.85010057e-10]),\n",
       " array([17.83348599, 13.34942462, 15.8321849 , 14.75315345, 17.56101504,\n",
       "        19.77367242, 41.567375  ]),\n",
       " array([-0.00875526,  0.00148287,  0.0161476 , -0.01983248,  0.00563827,\n",
       "        -0.00663596]),\n",
       " 1)"
      ]
     },
     "execution_count": 54,
     "metadata": {},
     "output_type": "execute_result"
    }
   ],
   "source": [
    "xf[0]"
   ]
  },
  {
   "cell_type": "code",
   "execution_count": 125,
   "metadata": {},
   "outputs": [],
   "source": [
    "from sklearn.preprocessing import MinMaxScaler"
   ]
  },
  {
   "cell_type": "code",
   "execution_count": 126,
   "metadata": {},
   "outputs": [],
   "source": [
    "s=MinMaxScaler()"
   ]
  },
  {
   "cell_type": "code",
   "execution_count": null,
   "metadata": {},
   "outputs": [],
   "source": []
  },
  {
   "cell_type": "code",
   "execution_count": null,
   "metadata": {},
   "outputs": [],
   "source": []
  },
  {
   "cell_type": "code",
   "execution_count": null,
   "metadata": {},
   "outputs": [],
   "source": []
  },
  {
   "cell_type": "code",
   "execution_count": null,
   "metadata": {},
   "outputs": [],
   "source": []
  },
  {
   "cell_type": "code",
   "execution_count": null,
   "metadata": {},
   "outputs": [],
   "source": []
  },
  {
   "cell_type": "code",
   "execution_count": null,
   "metadata": {},
   "outputs": [],
   "source": []
  },
  {
   "cell_type": "code",
   "execution_count": null,
   "metadata": {},
   "outputs": [],
   "source": []
  },
  {
   "cell_type": "code",
   "execution_count": null,
   "metadata": {},
   "outputs": [],
   "source": []
  }
 ],
 "metadata": {
  "kernelspec": {
   "display_name": "Python 3",
   "language": "python",
   "name": "python3"
  },
  "language_info": {
   "codemirror_mode": {
    "name": "ipython",
    "version": 3
   },
   "file_extension": ".py",
   "mimetype": "text/x-python",
   "name": "python",
   "nbconvert_exporter": "python",
   "pygments_lexer": "ipython3",
   "version": "3.7.7"
  }
 },
 "nbformat": 4,
 "nbformat_minor": 4
}
